{
  "cells": [
    {
      "cell_type": "markdown",
      "metadata": {
        "id": "view-in-github",
        "colab_type": "text"
      },
      "source": [
        "<a href=\"https://colab.research.google.com/github/rahulSanjayNikam/CodSoft-Internship/blob/main/CodSoft.ipynb\" target=\"_parent\"><img src=\"https://colab.research.google.com/assets/colab-badge.svg\" alt=\"Open In Colab\"/></a>"
      ]
    },
    {
      "cell_type": "code",
      "execution_count": null,
      "metadata": {
        "colab": {
          "background_save": true,
          "base_uri": "https://localhost:8080/"
        },
        "id": "cgvtStl_E_ph",
        "outputId": "7e81b4d5-8434-4c39-f2aa-0309e9e0d3c4"
      },
      "outputs": [
        {
          "name": "stdout",
          "output_type": "stream",
          "text": [
            "\n",
            "--- To-Do List Menu ---\n",
            "1. Add Task\n",
            "2. Update Task\n",
            "3. Delete Task\n",
            "4. Mark Task as Completed\n",
            "5. View Tasks\n",
            "6. Exit\n",
            "Task \"Running\" added.\n",
            "\n",
            "--- To-Do List Menu ---\n",
            "1. Add Task\n",
            "2. Update Task\n",
            "3. Delete Task\n",
            "4. Mark Task as Completed\n",
            "5. View Tasks\n",
            "6. Exit\n"
          ]
        }
      ],
      "source": [
        "class Task:\n",
        "    def __init__(self, title):\n",
        "        self.title = title\n",
        "        self.completed = False\n",
        "\n",
        "    def mark_completed(self):\n",
        "        self.completed = True\n",
        "\n",
        "    def __str__(self):\n",
        "        status = \"✓\" if self.completed else \"✗\"\n",
        "        return f\"[{status}] {self.title}\"\n",
        "\n",
        "\n",
        "class TodoList:\n",
        "    def __init__(self):\n",
        "        self.tasks = []\n",
        "\n",
        "    def add_task(self, title):\n",
        "        new_task = Task(title)\n",
        "        self.tasks.append(new_task)\n",
        "        print(f'Task \"{title}\" added.')\n",
        "\n",
        "    def update_task(self, index, title):\n",
        "        if 0 <= index < len(self.tasks):\n",
        "            self.tasks[index].title = title\n",
        "            print(f'Task {index + 1} updated.')\n",
        "        else:\n",
        "            print('Task not found.')\n",
        "\n",
        "    def delete_task(self, index):\n",
        "        if 0 <= index < len(self.tasks):\n",
        "            removed_task = self.tasks.pop(index)\n",
        "            print(f'Task \"{removed_task.title}\" deleted.')\n",
        "        else:\n",
        "            print('Task not found.')\n",
        "\n",
        "    def mark_task_completed(self, index):\n",
        "        if 0 <= index < len(self.tasks):\n",
        "            self.tasks[index].mark_completed()\n",
        "            print(f'Task \"{self.tasks[index].title}\" marked as completed.')\n",
        "        else:\n",
        "            print('Task not found.')\n",
        "\n",
        "    def view_tasks(self):\n",
        "        if not self.tasks:\n",
        "            print(\"No tasks available.\")\n",
        "        else:\n",
        "            for idx, task in enumerate(self.tasks):\n",
        "                print(f\"{idx + 1}. {task}\")\n",
        "\n",
        "\n",
        "def main():\n",
        "    todo_list = TodoList()\n",
        "\n",
        "    while True:\n",
        "        print(\"\\n To-Do List Menu \")\n",
        "        print(\"1. Add Task\")\n",
        "        print(\"2. Update Task\")\n",
        "        print(\"3. Delete Task\")\n",
        "        print(\"4. Mark Task as Completed\")\n",
        "        print(\"5. View Tasks\")\n",
        "        print(\"6. Exit\")\n",
        "\n",
        "        if input(\"Select an option (1-5): \") == '1':\n",
        "            title = input(\"Enter task title: \")\n",
        "            todo_list.add_task(title)\n",
        "\n",
        "        elif input(\"Select an option (1-): \") == '2':\n",
        "            todo_list.view_tasks()\n",
        "            index = int(input(\"Select the task number to update: \")) - 1\n",
        "            title = input(\"Enter new task title: \")\n",
        "            todo_list.update_task(index, title)\n",
        "\n",
        "        elif input(\"Select an option (1-6): \") == '3':\n",
        "            todo_list.view_tasks()\n",
        "            index = int(input(\"Select the task number to delete: \")) - 1\n",
        "            todo_list.delete_task(index)\n",
        "\n",
        "        elif input(\"Select an option (1-6): \") == '4':\n",
        "            todo_list.view_tasks()\n",
        "            index = int(input(\"Select the task number to mark as completed: \")) - 1\n",
        "            todo_list.mark_task_completed(index)\n",
        "\n",
        "        elif input(\"Select an option (1-6): \") == '5':\n",
        "            todo_list.view_tasks()\n",
        "\n",
        "        elif input(\"Select an option (1-6): \") == '6':\n",
        "            print(\"Exiting the To-Do List application.\")\n",
        "            break\n",
        "\n",
        "        else:\n",
        "            print(\"Invalid option. Please try again.\")\n",
        "\n",
        "\n",
        "if __name__ == \"__main__\":\n",
        "    main()\n"
      ]
    },
    {
      "cell_type": "code",
      "source": [],
      "metadata": {
        "id": "1w-R_K-CBksg"
      },
      "execution_count": null,
      "outputs": []
    }
  ],
  "metadata": {
    "colab": {
      "provenance": [],
      "authorship_tag": "ABX9TyNBroiOmctCLdXhOhzGR+wR",
      "include_colab_link": true
    },
    "kernelspec": {
      "display_name": "Python 3",
      "name": "python3"
    },
    "language_info": {
      "name": "python"
    }
  },
  "nbformat": 4,
  "nbformat_minor": 0
}