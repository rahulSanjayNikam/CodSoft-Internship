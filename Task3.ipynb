{
  "nbformat": 4,
  "nbformat_minor": 0,
  "metadata": {
    "colab": {
      "provenance": [],
      "authorship_tag": "ABX9TyNRVwCpkEIweN8wumVE3z8/",
      "include_colab_link": true
    },
    "kernelspec": {
      "name": "python3",
      "display_name": "Python 3"
    },
    "language_info": {
      "name": "python"
    }
  },
  "cells": [
    {
      "cell_type": "markdown",
      "metadata": {
        "id": "view-in-github",
        "colab_type": "text"
      },
      "source": [
        "<a href=\"https://colab.research.google.com/github/rahulSanjayNikam/CodSoft-Internship/blob/main/Task3.ipynb\" target=\"_parent\"><img src=\"https://colab.research.google.com/assets/colab-badge.svg\" alt=\"Open In Colab\"/></a>"
      ]
    },
    {
      "cell_type": "code",
      "source": [
        "import random\n",
        "import string\n",
        "\n",
        "def generate_password(length):\n",
        "  characters = string.ascii_letters + string.digits + string.punctuation\n",
        "  password = ''.join(random.choice(characters) for i in range(length))\n",
        "  return password\n",
        "\n",
        "if __name__ == \"__main__\":\n",
        "  try:\n",
        "    length = int(input(\"Enter the desired password length: \"))\n",
        "    if length <= 0:\n",
        "      print(\"Password length must be greater than 0.\")\n",
        "    else:\n",
        "      password = generate_password(length)\n",
        "      print(\"Generated password:\", password)\n",
        "  except ValueError:\n",
        "    print(\"Invalid input. Please enter a valid integer for the password length.\")"
      ],
      "metadata": {
        "colab": {
          "base_uri": "https://localhost:8080/"
        },
        "id": "JWxGpGFNVAoW",
        "outputId": "e6128c73-cca0-447f-b49b-28dc1e3026ba"
      },
      "execution_count": 5,
      "outputs": [
        {
          "output_type": "stream",
          "name": "stdout",
          "text": [
            "Enter the desired password length: 10\n",
            "Generated password: bRh@2^lmi8\n"
          ]
        }
      ]
    }
  ]
}