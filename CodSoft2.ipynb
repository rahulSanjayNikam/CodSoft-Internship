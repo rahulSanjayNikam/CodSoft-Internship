{
  "nbformat": 4,
  "nbformat_minor": 0,
  "metadata": {
    "colab": {
      "provenance": [],
      "authorship_tag": "ABX9TyNz5IatnIrcNQrD3KjQlz/i",
      "include_colab_link": true
    },
    "kernelspec": {
      "name": "python3",
      "display_name": "Python 3"
    },
    "language_info": {
      "name": "python"
    }
  },
  "cells": [
    {
      "cell_type": "markdown",
      "metadata": {
        "id": "view-in-github",
        "colab_type": "text"
      },
      "source": [
        "<a href=\"https://colab.research.google.com/github/rahulSanjayNikam/CodSoft-Internship/blob/main/CodSoft2.ipynb\" target=\"_parent\"><img src=\"https://colab.research.google.com/assets/colab-badge.svg\" alt=\"Open In Colab\"/></a>"
      ]
    },
    {
      "cell_type": "code",
      "execution_count": null,
      "metadata": {
        "colab": {
          "base_uri": "https://localhost:8080/"
        },
        "id": "_d2jbXJ6RuFr",
        "outputId": "20ab5328-0ddd-4d5d-f57f-a87a0a2818df"
      },
      "outputs": [
        {
          "output_type": "stream",
          "name": "stdout",
          "text": [
            "Enter the first number: 10\n",
            "Enter the second number: 20\n",
            "Enter the operation (+, -, *, /): +\n",
            "Result: 30.0\n"
          ]
        }
      ],
      "source": [
        "def calculator():\n",
        "    try:\n",
        "        num1 = float(input(\"Enter the first number: \"))\n",
        "        num2 = float(input(\"Enter the second number: \"))\n",
        "        operation = input(\"Enter the operation (+, -, *, /): \")\n",
        "\n",
        "        if operation == \"+\":\n",
        "            result = num1 + num2\n",
        "        elif operation == \"-\":\n",
        "            result = num1 - num2\n",
        "        elif operation == \"*\":\n",
        "            result = num1 * num2\n",
        "        elif operation == \"/\":\n",
        "            if num2 == 0:\n",
        "                print(\"Error: Division by zero\")\n",
        "                return\n",
        "            result = num1 / num2\n",
        "        else:\n",
        "            print(\"Invalid operation\")\n",
        "            return\n",
        "\n",
        "        print(f\"Result: {result}\")\n",
        "\n",
        "    except ValueError:\n",
        "        print(\"Invalid input. Please enter numbers only.\")\n",
        "\n",
        "if __name__ == \"__main__\":\n",
        "    calculator()"
      ]
    }
  ]
}